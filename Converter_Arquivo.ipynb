{
  "nbformat": 4,
  "nbformat_minor": 0,
  "metadata": {
    "colab": {
      "provenance": [],
      "authorship_tag": "ABX9TyNNrNbrbNnH6rC6VFIBaxLO",
      "include_colab_link": true
    },
    "kernelspec": {
      "name": "python3",
      "display_name": "Python 3"
    },
    "language_info": {
      "name": "python"
    }
  },
  "cells": [
    {
      "cell_type": "markdown",
      "metadata": {
        "id": "view-in-github",
        "colab_type": "text"
      },
      "source": [
        "<a href=\"https://colab.research.google.com/github/lipefp/python/blob/main/Converter_Arquivo.ipynb\" target=\"_parent\"><img src=\"https://colab.research.google.com/assets/colab-badge.svg\" alt=\"Open In Colab\"/></a>"
      ]
    },
    {
      "cell_type": "code",
      "source": [
        "import pandas as pd\n",
        "import os\n",
        "\n",
        "def converter_xlsx_para_csv(caminho_xlsx, nome_aba=None):\n",
        "    \"\"\"\n",
        "    Converte um arquivo .xlsx para .csv.\n",
        "\n",
        "    Parâmetros:\n",
        "    - caminho_xlsx: caminho do arquivo Excel (ex: 'clientes.xlsx')\n",
        "    - nome_aba: (opcional) nome da aba a ser lida (caso o Excel tenha várias)\n",
        "\n",
        "    Salva um arquivo .csv com o mesmo nome no mesmo local.\n",
        "    \"\"\"\n",
        "    try:\n",
        "        # Lê o Excel (aba específica se for passada)\n",
        "        if nome_aba:\n",
        "            df = pd.read_excel(caminho_xlsx, sheet_name=nome_aba)\n",
        "        else:\n",
        "            df = pd.read_excel(caminho_xlsx)\n",
        "\n",
        "        # Cria nome do novo arquivo .csv\n",
        "        nome_csv = caminho_xlsx.replace('.xlsx', '.csv')\n",
        "\n",
        "        # Salva o DataFrame como CSV\n",
        "        df.to_csv(nome_csv, index=False)\n",
        "        print(f\"\\n✅ Arquivo convertido com sucesso: {nome_csv}\\n\")\n",
        "\n",
        "    except Exception as e:\n",
        "        print(f\"\\n❌ Erro ao converter arquivo: {e}\\n\")\n",
        "\n",
        "\n",
        "def menu():\n",
        "    while True:\n",
        "        print(\"=== Conversor XLSX → CSV ===\")\n",
        "        print(\"1 - Converter um arquivo\")\n",
        "        print(\"0 - Sair\")\n",
        "        opcao = input(\"Escolha uma opção: \")\n",
        "\n",
        "        if opcao == \"1\":\n",
        "            caminho = input(\"\\nDigite o caminho do arquivo .xlsx (ex: clientes.xlsx): \").strip()\n",
        "\n",
        "            if not os.path.isfile(caminho):\n",
        "                print(\"❌ Arquivo não encontrado.\\n\")\n",
        "                continue\n",
        "\n",
        "            usar_aba = input(\"Deseja indicar o nome da aba? (s/n): \").lower()\n",
        "            if usar_aba == \"s\":\n",
        "                nome_aba = input(\"Digite o nome da aba: \").strip()\n",
        "                converter_xlsx_para_csv(caminho, nome_aba)\n",
        "            else:\n",
        "                converter_xlsx_para_csv(caminho)\n",
        "\n",
        "        elif opcao == \"0\":\n",
        "            print(\"Encerrando o programa.\")\n",
        "            break\n",
        "        else:\n",
        "            print(\"Opção inválida.\\n\")\n",
        "\n",
        "\n",
        "# Rodar o menu\n",
        "if __name__ == \"__main__\":\n",
        "    menu()\n"
      ],
      "metadata": {
        "colab": {
          "base_uri": "https://localhost:8080/"
        },
        "id": "-Ej44jP6F2-a",
        "outputId": "48b8f5d7-229d-48e7-cd1c-47207dfe1a7c"
      },
      "execution_count": null,
      "outputs": [
        {
          "metadata": {
            "tags": null
          },
          "name": "stdout",
          "output_type": "stream",
          "text": [
            "=== Conversor XLSX → CSV ===\n",
            "1 - Converter um arquivo\n",
            "0 - Sair\n"
          ]
        }
      ]
    },
    {
      "cell_type": "code",
      "source": [],
      "metadata": {
        "id": "Wydmm5SPGalj"
      },
      "execution_count": null,
      "outputs": []
    }
  ]
}